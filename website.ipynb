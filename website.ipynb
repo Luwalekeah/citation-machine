{
 "cells": [
  {
   "cell_type": "code",
   "execution_count": 3,
   "metadata": {},
   "outputs": [],
   "source": [
    "# Imports\n",
    "import requests\n",
    "from bs4 import BeautifulSoup"
   ]
  },
  {
   "cell_type": "code",
   "execution_count": 25,
   "metadata": {},
   "outputs": [
    {
     "name": "stdout",
     "output_type": "stream",
     "text": [
      "Title: Howard Jay Needle, Maryland delegate in the 1970s, dies – Baltimore Sun\n",
      "Author: N/A\n",
      "Publication Date: N/A\n",
      "URL: https://www.baltimoresun.com/2024/02/18/howard-jay-needle-maryland-delegate-in-the-1970s-dies/\n"
     ]
    }
   ],
   "source": [
    "import requests\n",
    "from bs4 import BeautifulSoup\n",
    "\n",
    "# url = \"https://thenewstack.io/beyond-terraform-how-we-scaled-devops/\"\n",
    "url = \"https://www.baltimoresun.com/2024/02/18/howard-jay-needle-maryland-delegate-in-the-1970s-dies/\"\n",
    "\n",
    "# Send a GET request to the URL\n",
    "response = requests.get(url)\n",
    "\n",
    "# Check if the request was successful (status code 200)\n",
    "if response.status_code == 200:\n",
    "    # Parse the HTML content of the page\n",
    "    soup = BeautifulSoup(response.text, 'html.parser')\n",
    "    \n",
    "    # Extract relevant information\n",
    "    title = soup.title.text.strip()\n",
    "    \n",
    "    # Find the element containing both date and author\n",
    "    info_element = soup.find(\"div\")\n",
    "\n",
    "    if info_element:\n",
    "        # Extract date and author\n",
    "        date_element = info_element.find(\"span\", class_=\"date\")\n",
    "        date = date_element.text.strip() if date_element else \"N/A\"\n",
    "\n",
    "        author_element = info_element.find(\"span\", class_=\"author\")\n",
    "        author = author_element.a.text.strip() if author_element else \"N/A\"\n",
    "    else:\n",
    "        date = \"N/A\"\n",
    "        author = \"N/A\"\n",
    "    \n",
    "    # publication = soup.\n",
    "\n",
    "    # Print the extracted information\n",
    "    print(\"Title:\", title)\n",
    "    print(\"Author:\", author)\n",
    "    # print(\"Publication:\", publication)\n",
    "    print(\"Publication Date:\", date)\n",
    "    print(\"URL:\", url)\n",
    "else:\n",
    "    print(\"Failed to retrieve the webpage. Status code:\", response.status_code)\n"
   ]
  },
  {
   "cell_type": "code",
   "execution_count": 35,
   "metadata": {},
   "outputs": [
    {
     "name": "stdout",
     "output_type": "stream",
     "text": [
      "Publisher not found in the title.\n"
     ]
    }
   ],
   "source": [
    "import requests\n",
    "from bs4 import BeautifulSoup\n",
    "\n",
    "url = \"https://www.baltimoresun.com/2024/02/18/howard-jay-needle-maryland-delegate-in-the-1970s-dies/\"\n",
    "\n",
    "# Send a GET request to the URL\n",
    "response = requests.get(url)\n",
    "\n",
    "# Check if the request was successful (status code 200)\n",
    "if response.status_code == 200:\n",
    "    # Parse the HTML content of the page\n",
    "    soup = BeautifulSoup(response.text, 'html.parser')\n",
    "\n",
    "    # Find the title tag\n",
    "    title_tag = soup.find('title')\n",
    "\n",
    "    # Extract the text content of the title tag\n",
    "    title_text = title_tag.text if title_tag else \"\"\n",
    "\n",
    "    # Common separators that might be used in titles\n",
    "    separators = ['|', '-']\n",
    "\n",
    "    # Initialize the publisher variable\n",
    "    publisher = \"\"\n",
    "\n",
    "    # Iterate through separators and try to extract the publisher from the title\n",
    "    for separator in separators:\n",
    "        if separator in title_text:\n",
    "            parts = title_text.split(separator)\n",
    "            publisher = parts[-1].strip()\n",
    "            break\n",
    "\n",
    "    if publisher:\n",
    "        print(\"Publisher:\", publisher)\n",
    "    else:\n",
    "        print(\"Publisher not found in the title.\")\n",
    "else:\n",
    "    print(\"Failed to retrieve the webpage. Status code:\", response.status_code)\n"
   ]
  },
  {
   "cell_type": "code",
   "execution_count": null,
   "metadata": {},
   "outputs": [],
   "source": []
  }
 ],
 "metadata": {
  "kernelspec": {
   "display_name": "Python 3",
   "language": "python",
   "name": "python3"
  },
  "language_info": {
   "codemirror_mode": {
    "name": "ipython",
    "version": 3
   },
   "file_extension": ".py",
   "mimetype": "text/x-python",
   "name": "python",
   "nbconvert_exporter": "python",
   "pygments_lexer": "ipython3",
   "version": "3.12.2"
  }
 },
 "nbformat": 4,
 "nbformat_minor": 2
}
